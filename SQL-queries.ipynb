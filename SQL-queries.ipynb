{
 "cells": [
  {
   "cell_type": "markdown",
   "metadata": {},
   "source": [
    "Establish connection to database on SQL server on Ubuntu machine in Virtualbox"
   ]
  },
  {
   "cell_type": "code",
   "execution_count": 1,
   "metadata": {},
   "outputs": [
    {
     "name": "stdout",
     "output_type": "stream",
     "text": [
      "Connected to MySQL database... MySQL Server version on  5.7.27-0ubuntu0.18.04.1\n",
      "Your connected to -  ('employees',)\n",
      "MySQL connection is closed\n"
     ]
    }
   ],
   "source": [
    "#!/usr/bin/env py36\n",
    "import mysql.connector\n",
    "from mysql.connector import Error\n",
    "\n",
    "try:\n",
    "    connection = mysql.connector.connect(\n",
    "        host=\"192.168.56.101\",\n",
    "        port=\"3306\",\n",
    "        user=\"root\",\n",
    "        passwd=\"************\",\n",
    "        database=\"employees\")\n",
    "\n",
    "    if connection.is_connected():\n",
    "        db_Info = connection.get_server_info()\n",
    "        print(\"Connected to MySQL database... MySQL Server version on \", db_Info)\n",
    "\n",
    "        # Creating 'cursor' object to execute database operations\n",
    "        cursor = connection.cursor()\n",
    "        query = \"SELECT database();\"\n",
    "        cursor.execute(query)\n",
    "        record = cursor.fetchone()\n",
    "        print(\"Your connected to - \", record)\n",
    "\n",
    "except Error as e:\n",
    "    print (\"Error while connecting to MySQL\", e)\n",
    "\n",
    "finally:\n",
    "    # closing database connection.\n",
    "    if (connection.is_connected()):\n",
    "        cursor.close()\n",
    "        connection.close()\n",
    "        print(\"MySQL connection is closed\")"
   ]
  },
  {
   "cell_type": "markdown",
   "metadata": {},
   "source": [
    "A function to execute simple_query:"
   ]
  },
  {
   "cell_type": "code",
   "execution_count": 2,
   "metadata": {},
   "outputs": [],
   "source": [
    "#!/usr/bin/env py36\n",
    "import mysql.connector\n",
    "from pandas import DataFrame\n",
    "from mysql.connector import Error\n",
    "\n",
    "def simple_query(query):\n",
    "    try:\n",
    "        connection = mysql.connector.connect(\n",
    "            host=\"192.168.56.101\",\n",
    "            port=\"3306\",\n",
    "            user=\"root\",\n",
    "            passwd=\"************\",\n",
    "            database=\"employees\") # name of the whole database (may include sub-database with the same name)\n",
    "\n",
    "        if connection.is_connected():\n",
    "            db_Info = connection.get_server_info()\n",
    "            print(\"Connected to MySQL database... MySQL Server version on \", db_Info)\n",
    "\n",
    "            # Creating 'cursor' object to execute database operations - queries\n",
    "            cursor = connection.cursor()\n",
    "            # query = \"SELECT * from salaries limit 5;\"\n",
    "            cursor.execute(query)\n",
    "            record = cursor.fetchall()\n",
    "            # print under panda format\n",
    "            df = DataFrame(record)\n",
    "            # get all columns' name from record ['EmP_ID','Salary','from_date','to_date']\n",
    "            df.columns = [i[0] for i in cursor.description]\n",
    "            print('\\n')\n",
    "            print(df)\n",
    "            print('\\n')\n",
    "\n",
    "    except Error as e:\n",
    "        print (\"Error while connecting to MySQL\", e)\n",
    "\n",
    "    finally:\n",
    "        # closing database connection.\n",
    "        if (connection.is_connected()):\n",
    "            cursor.close()\n",
    "            connection.close()\n",
    "            print(\"MySQL connection is closed\")"
   ]
  },
  {
   "cell_type": "markdown",
   "metadata": {},
   "source": [
    "Some other queries:"
   ]
  },
  {
   "cell_type": "code",
   "execution_count": 3,
   "metadata": {},
   "outputs": [
    {
     "name": "stdout",
     "output_type": "stream",
     "text": [
      "Connected to MySQL database... MySQL Server version on  5.7.27-0ubuntu0.18.04.1\n",
      "\n",
      "\n",
      "    Tables_in_employees\n",
      "0      current_dept_emp\n",
      "1           departments\n",
      "2              dept_emp\n",
      "3  dept_emp_latest_date\n",
      "4          dept_manager\n",
      "5             employees\n",
      "6              salaries\n",
      "7                titles\n",
      "\n",
      "\n",
      "MySQL connection is closed\n"
     ]
    }
   ],
   "source": [
    "simple_query(\"SHOW tables;\")"
   ]
  },
  {
   "cell_type": "code",
   "execution_count": 4,
   "metadata": {},
   "outputs": [
    {
     "name": "stdout",
     "output_type": "stream",
     "text": [
      "Connected to MySQL database... MySQL Server version on  5.7.27-0ubuntu0.18.04.1\n",
      "\n",
      "\n",
      "       Field     Type Null  Key Default Extra\n",
      "0     emp_no  int(11)   NO  PRI    None      \n",
      "1     salary  int(11)   NO         None      \n",
      "2  from_date     date   NO  PRI    None      \n",
      "3    to_date     date   NO         None      \n",
      "\n",
      "\n",
      "MySQL connection is closed\n"
     ]
    }
   ],
   "source": [
    "# describe a table, ex: salaries\n",
    "simple_query(\"DESCRIBE salaries;\")"
   ]
  },
  {
   "cell_type": "markdown",
   "metadata": {},
   "source": [
    "NULL - NO : mean the data is forced to be filled and NULL value is not allowed.\n",
    "\n",
    "And in this case, it will be filled with a number.\n",
    "\n",
    "PRI key: Primary key, is a key in a relational database that is unique for each record.\n",
    "\n",
    "E.g. 2 people may have the same name, but their personal ID are different. Primary key acts like personal ID for this example."
   ]
  },
  {
   "cell_type": "code",
   "execution_count": 5,
   "metadata": {},
   "outputs": [
    {
     "name": "stdout",
     "output_type": "stream",
     "text": [
      "Connected to MySQL database... MySQL Server version on  5.7.27-0ubuntu0.18.04.1\n",
      "\n",
      "\n",
      "   emp_no  salary   from_date     to_date\n",
      "0   10009   60929  1985-02-18  1986-02-18\n",
      "1   10013   40000  1985-10-20  1986-10-20\n",
      "2   10048   40000  1985-02-24  1986-02-24\n",
      "3   10064   40000  1985-11-20  1986-11-20\n",
      "4   10070   55999  1985-10-14  1986-10-14\n",
      "\n",
      "\n",
      "MySQL connection is closed\n"
     ]
    }
   ],
   "source": [
    "# select all columns (keys) in side a tables, ex: salaries\n",
    "simple_query(\"SELECT * from salaries limit 5;\")"
   ]
  },
  {
   "cell_type": "code",
   "execution_count": 6,
   "metadata": {},
   "outputs": [
    {
     "name": "stdout",
     "output_type": "stream",
     "text": [
      "Connected to MySQL database... MySQL Server version on  5.7.27-0ubuntu0.18.04.1\n",
      "\n",
      "\n",
      "   emp_no  birth_date first_name last_name gender   hire_date\n",
      "0   10001  1953-09-02     Georgi   Facello      M  1986-06-26\n",
      "1   10002  1964-06-02    Bezalel    Simmel      F  1985-11-21\n",
      "2   10003  1959-12-03      Parto   Bamford      M  1986-08-28\n",
      "3   10004  1954-05-01  Chirstian   Koblick      M  1986-12-01\n",
      "4   10005  1955-01-21    Kyoichi  Maliniak      M  1989-09-12\n",
      "\n",
      "\n",
      "MySQL connection is closed\n"
     ]
    }
   ],
   "source": [
    "simple_query(\"SELECT * from employees limit 5;\")"
   ]
  },
  {
   "cell_type": "code",
   "execution_count": 7,
   "metadata": {},
   "outputs": [
    {
     "name": "stdout",
     "output_type": "stream",
     "text": [
      "Connected to MySQL database... MySQL Server version on  5.7.27-0ubuntu0.18.04.1\n",
      "\n",
      "\n",
      "   emp_no               title   from_date     to_date\n",
      "0   10009  Assistant Engineer  1985-02-18  1990-02-18\n",
      "1   10013        Senior Staff  1985-10-20  9999-01-01\n",
      "2   10048            Engineer  1985-02-24  1987-01-27\n",
      "3   10064               Staff  1985-11-20  1992-03-02\n",
      "4   10070    Technique Leader  1985-10-14  9999-01-01\n",
      "\n",
      "\n",
      "MySQL connection is closed\n"
     ]
    }
   ],
   "source": [
    "simple_query(\"SELECT * from titles limit 5;\")"
   ]
  },
  {
   "cell_type": "code",
   "execution_count": 8,
   "metadata": {},
   "outputs": [
    {
     "name": "stdout",
     "output_type": "stream",
     "text": [
      "Connected to MySQL database... MySQL Server version on  5.7.27-0ubuntu0.18.04.1\n",
      "\n",
      "\n",
      "  dept_no         dept_name\n",
      "0    d009  Customer Service\n",
      "1    d005       Development\n",
      "2    d002           Finance\n",
      "3    d003   Human Resources\n",
      "4    d001         Marketing\n",
      "\n",
      "\n",
      "MySQL connection is closed\n"
     ]
    }
   ],
   "source": [
    "simple_query(\"SELECT * from departments limit 5;\")"
   ]
  },
  {
   "cell_type": "code",
   "execution_count": 9,
   "metadata": {},
   "outputs": [
    {
     "name": "stdout",
     "output_type": "stream",
     "text": [
      "Connected to MySQL database... MySQL Server version on  5.7.27-0ubuntu0.18.04.1\n",
      "\n",
      "\n",
      "   emp_no  birth_date first_name last_name gender   hire_date  emp_no  salary  \\\n",
      "0   10001  1953-09-02     Georgi   Facello      M  1986-06-26   10001   60117   \n",
      "1   10001  1953-09-02     Georgi   Facello      M  1986-06-26   10001   62102   \n",
      "2   10001  1953-09-02     Georgi   Facello      M  1986-06-26   10001   66074   \n",
      "3   10001  1953-09-02     Georgi   Facello      M  1986-06-26   10001   66596   \n",
      "4   10001  1953-09-02     Georgi   Facello      M  1986-06-26   10001   66961   \n",
      "\n",
      "    from_date     to_date  \n",
      "0  1986-06-26  1987-06-26  \n",
      "1  1987-06-26  1988-06-25  \n",
      "2  1988-06-25  1989-06-25  \n",
      "3  1989-06-25  1990-06-25  \n",
      "4  1990-06-25  1991-06-25  \n",
      "\n",
      "\n",
      "MySQL connection is closed\n"
     ]
    }
   ],
   "source": [
    "# Join tables employees and salaries\n",
    "simple_query(\"SELECT * from employees e join salaries s on e.emp_no=s.emp_no limit 5;\")"
   ]
  },
  {
   "cell_type": "markdown",
   "metadata": {},
   "source": [
    "Some columns are just repeated, we can select which columns to display:"
   ]
  },
  {
   "cell_type": "code",
   "execution_count": 10,
   "metadata": {},
   "outputs": [
    {
     "name": "stdout",
     "output_type": "stream",
     "text": [
      "Connected to MySQL database... MySQL Server version on  5.7.27-0ubuntu0.18.04.1\n",
      "\n",
      "\n",
      "   emp_no  birth_date first_name last_name gender  salary\n",
      "0   10001  1953-09-02     Georgi   Facello      M   60117\n",
      "1   10001  1953-09-02     Georgi   Facello      M   62102\n",
      "2   10001  1953-09-02     Georgi   Facello      M   66074\n",
      "3   10001  1953-09-02     Georgi   Facello      M   66596\n",
      "4   10001  1953-09-02     Georgi   Facello      M   66961\n",
      "\n",
      "\n",
      "MySQL connection is closed\n"
     ]
    }
   ],
   "source": [
    "# Join tables employees and salaries with selective columns\n",
    "simple_query(\"SELECT e.emp_no, e.birth_date, e.first_name, e.last_name, e.gender, s.salary from employees e join salaries s on e.emp_no=s.emp_no limit 5;\")"
   ]
  },
  {
   "cell_type": "code",
   "execution_count": 11,
   "metadata": {},
   "outputs": [],
   "source": [
    "#!/usr/bin/env py36\n",
    "import mysql.connector\n",
    "from mysql.connector import Error\n",
    "from pandas import DataFrame\n",
    "\n",
    "# select employes with specific hire and end dates\n",
    "def period_query(query, start_date, end_date):\n",
    "    try:\n",
    "        connection = mysql.connector.connect(\n",
    "            host=\"192.168.56.101\",\n",
    "            port=\"3306\",\n",
    "            user=\"root\",\n",
    "            passwd=\"************\",\n",
    "            database=\"employees\") # name of the whole database (may include sub-database with the same name)\n",
    "\n",
    "        if connection.is_connected():\n",
    "            db_Info = connection.get_server_info()\n",
    "            print(\"Connected to MySQL database... MySQL Server version on \", db_Info)\n",
    "\n",
    "            # Creating 'cursor' object to execute database operations - queries\n",
    "            cursor = connection.cursor()\n",
    "            cursor.execute(query, (start_date, end_date))\n",
    "            record = cursor.fetchall()\n",
    "            \n",
    "            df = DataFrame(record)\n",
    "            df.columns = [i[0] for i in cursor.description]\n",
    "            print('\\n')\n",
    "            print(df)\n",
    "            print('\\n')\n",
    "\n",
    "    except Error as e:\n",
    "        print (\"Error while connecting to MySQL\", e)\n",
    "\n",
    "    finally:\n",
    "        # closing database connection.\n",
    "        if (connection.is_connected()):\n",
    "            cursor.close()\n",
    "            connection.close()\n",
    "            print(\"MySQL connection is closed\")"
   ]
  },
  {
   "cell_type": "code",
   "execution_count": 12,
   "metadata": {},
   "outputs": [
    {
     "name": "stdout",
     "output_type": "stream",
     "text": [
      "Connected to MySQL database... MySQL Server version on  5.7.27-0ubuntu0.18.04.1\n",
      "\n",
      "\n",
      "   emp_no  birth_date   first_name   last_name gender   hire_date\n",
      "0   47291  1960-09-09          Ulf      Flexer      M  2000-01-12\n",
      "1   60134  1964-04-21        Seshu    Rathonyi      F  2000-01-02\n",
      "2   72329  1953-02-09        Randi        Luit      F  2000-01-02\n",
      "3  108201  1955-04-14  Mariangiola     Boreale      M  2000-01-01\n",
      "4  205048  1960-09-12        Ennio      Alblas      F  2000-01-06\n",
      "5  222965  1959-08-07      Volkmar       Perko      F  2000-01-13\n",
      "6  226633  1958-06-10       Xuejun  Benzmuller      F  2000-01-04\n",
      "7  227544  1954-11-17       Shahab     Demeyer      M  2000-01-08\n",
      "8  422990  1953-04-09        Jaana    Verspoor      F  2000-01-11\n",
      "9  424445  1953-04-27        Jeong     Boreale      M  2000-01-03\n",
      "\n",
      "\n",
      "MySQL connection is closed\n"
     ]
    }
   ],
   "source": [
    "import datetime\n",
    "# select employes hired within January 2000\n",
    "hire_start = datetime.date(2000, 1, 1)\n",
    "hire_end = datetime.date(2000, 1, 31)\n",
    "\n",
    "query = (\"SELECT * FROM employees \"\n",
    "        \"WHERE hire_date BETWEEN %s AND %s limit 10;\")\n",
    "    \n",
    "period_query(query, hire_start, hire_end)  "
   ]
  }
 ],
 "metadata": {
  "kernelspec": {
   "display_name": "Python [conda env:py36] *",
   "language": "python",
   "name": "conda-env-py36-py"
  },
  "language_info": {
   "codemirror_mode": {
    "name": "ipython",
    "version": 3
   },
   "file_extension": ".py",
   "mimetype": "text/x-python",
   "name": "python",
   "nbconvert_exporter": "python",
   "pygments_lexer": "ipython3",
   "version": "3.6.7"
  }
 },
 "nbformat": 4,
 "nbformat_minor": 2
}
